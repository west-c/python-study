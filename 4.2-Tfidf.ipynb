{
 "cells": [
  {
   "cell_type": "code",
   "execution_count": 6,
   "metadata": {},
   "outputs": [],
   "source": [
    "import numpy as np\n",
    "from sklearn.feature_extraction.text import CountVectorizer, TfidfVectorizer\n",
    "from sklearn.svm import LinearSVC\n",
    "from sklearn.datasets import fetch_20newsgroups\n",
    "\n",
    "categories = ['alt.atheism', 'soc.religion.christian', 'comp.graphics', 'sci.med']\n",
    "remove = ('headers', 'footers', 'quotes')\n",
    "twenty_train = fetch_20newsgroups(subset='train', remove=remove, categories=categories)  # 学習データ\n",
    "twenty_test = fetch_20newsgroups(subset='test', remove=remove, categories=categories)  # 検証データ"
   ]
  },
  {
   "cell_type": "code",
   "execution_count": 13,
   "metadata": {},
   "outputs": [
    {
     "data": {
      "text/plain": [
       "0.7423435419440746"
      ]
     },
     "execution_count": 13,
     "metadata": {},
     "output_type": "execute_result"
    }
   ],
   "source": [
    "# 文書データを単語カウントで変換し、LinearSVCで学習・予測\n",
    "count_vect = CountVectorizer()  # 単語カウント\n",
    "X_train_counts = count_vect.fit_transform(twenty_train.data)\n",
    "X_test_count = count_vect.transform(twenty_test.data)\n",
    "\n",
    "model = LinearSVC()\n",
    "model.fit(X_train_counts, twenty_train.target)\n",
    "predicted = model.predict(X_test_count)\n",
    "np.mean(predicted == twenty_test.target)  # 正解率"
   ]
  },
  {
   "cell_type": "code",
   "execution_count": 18,
   "metadata": {},
   "outputs": [
    {
     "data": {
      "text/plain": [
       "0.8149134487350199"
      ]
     },
     "execution_count": 18,
     "metadata": {},
     "output_type": "execute_result"
    }
   ],
   "source": [
    "# tf-idfを使って変換し、LinearSVCで学習・予測\n",
    "tf_vec = TfidfVectorizer()  # tf-idf\n",
    "X_train_tfidf = tf_vec.fit_transform(twenty_train.data)\n",
    "X_test_tfidf = tf_vec.transform(twenty_test.data)\n",
    "\n",
    "model = LinearSVC()\n",
    "model.fit(X_train_tfidf, twenty_train.target)\n",
    "predicted = model.predict(X_test_tfidf)\n",
    "np.mean(predicted == twenty_test.target)  # 正解率"
   ]
  }
 ],
 "metadata": {
  "kernelspec": {
   "display_name": "Python 3",
   "language": "python",
   "name": "python3"
  },
  "language_info": {
   "codemirror_mode": {
    "name": "ipython",
    "version": 3
   },
   "file_extension": ".py",
   "mimetype": "text/x-python",
   "name": "python",
   "nbconvert_exporter": "python",
   "pygments_lexer": "ipython3",
   "version": "3.7.6"
  }
 },
 "nbformat": 4,
 "nbformat_minor": 2
}
