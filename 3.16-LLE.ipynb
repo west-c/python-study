{
 "cells": [
  {
   "cell_type": "code",
   "execution_count": 3,
   "metadata": {},
   "outputs": [
    {
     "name": "stdout",
     "output_type": "stream",
     "text": [
      "[[ 0.03231452  0.00777054]\n",
      " [ 0.03748159  0.00255437]\n",
      " [ 0.03814057 -0.00076685]\n",
      " ...\n",
      " [-0.03478946  0.0307475 ]\n",
      " [-0.02709343  0.05415812]\n",
      " [ 0.04144723  0.00883497]]\n"
     ]
    }
   ],
   "source": [
    "from sklearn.datasets import samples_generator\n",
    "from sklearn.manifold import LocallyLinearEmbedding\n",
    "\n",
    "data, color = samples_generator.make_swiss_roll(n_samples=1500)\n",
    "\n",
    "n_neighbors = 12 # 近傍点の数\n",
    "n_components = 2 # 削減後の次元数\n",
    "model = LocallyLinearEmbedding(n_neighbors=n_neighbors,\n",
    "                                                          n_components=n_components)\n",
    "model.fit(data)\n",
    "print(model.transform(data))  # 変換したデータ"
   ]
  }
 ],
 "metadata": {
  "kernelspec": {
   "display_name": "Python 3",
   "language": "python",
   "name": "python3"
  },
  "language_info": {
   "codemirror_mode": {
    "name": "ipython",
    "version": 3
   },
   "file_extension": ".py",
   "mimetype": "text/x-python",
   "name": "python",
   "nbconvert_exporter": "python",
   "pygments_lexer": "ipython3",
   "version": "3.7.6"
  }
 },
 "nbformat": 4,
 "nbformat_minor": 2
}
