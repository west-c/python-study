{
 "cells": [
  {
   "cell_type": "code",
   "execution_count": 7,
   "metadata": {},
   "outputs": [
    {
     "data": {
      "text/plain": [
       "array([0.08982214, 0.5401128 , 0.93323027])"
      ]
     },
     "execution_count": 7,
     "metadata": {},
     "output_type": "execute_result"
    }
   ],
   "source": [
    "# ロジスティック回帰（分類）\n",
    "\n",
    "import numpy as np\n",
    "from sklearn.linear_model import LogisticRegression\n",
    "\n",
    "X_train = np.r_[np.random.normal(3, 1, size=50),\n",
    "                 np.random.normal(-1, 1, size=50)].reshape(100, -1)\n",
    "#print(X_train)\n",
    "\n",
    "y_train = np.r_[np.ones(50), np.zeros(50)]\n",
    "model = LogisticRegression()\n",
    "model.fit(X_train, y_train)\n",
    "# x=0, x=1, x=2 それぞれのときの確率を出力\n",
    "model.predict_proba([[0], [1], [2]])[:, 1]"
   ]
  }
 ],
 "metadata": {
  "kernelspec": {
   "display_name": "Python 3",
   "language": "python",
   "name": "python3"
  },
  "language_info": {
   "codemirror_mode": {
    "name": "ipython",
    "version": 3
   },
   "file_extension": ".py",
   "mimetype": "text/x-python",
   "name": "python",
   "nbconvert_exporter": "python",
   "pygments_lexer": "ipython3",
   "version": "3.7.5"
  }
 },
 "nbformat": 4,
 "nbformat_minor": 2
}
