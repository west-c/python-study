{
 "cells": [
  {
   "cell_type": "code",
   "execution_count": 5,
   "metadata": {},
   "outputs": [
    {
     "name": "stdout",
     "output_type": "stream",
     "text": [
      "[255, 255, 255, 255, 255, 255, 255, 255, 255, 255, 255, 255, 255, 138, 48, 119, 255, 255, 255, 255, 255, 255, 232, 38, 94, 42, 184, 255, 255, 255, 255, 255, 114, 81, 255, 115, 71, 255, 255, 255, 255, 255, 62, 155, 255, 232, 46, 216, 255, 255, 255, 255, 47, 189, 255, 234, 52, 202, 255, 255, 255, 245, 60, 161, 255, 205, 52, 224, 255, 255, 255, 255, 100, 74, 209, 64, 94, 255, 255, 255, 255, 255, 227, 79, 46, 93, 255, 255, 255, 255, 255, 255, 255, 255, 255, 255, 255, 255, 255, 255]\n"
     ]
    }
   ],
   "source": [
    "# 画像データからベクトルデータへの変換\n",
    "from PIL import Image\n",
    "import numpy as np\n",
    "\n",
    "img = Image.open('mlzukan-img.png').convert('L')\n",
    "width, height = img.size\n",
    "img_pixels = []\n",
    "for y in range(height):\n",
    "    for x in range(width):\n",
    "        # getpixel で指定した位置のピクセル値を取得\n",
    "        img_pixels.append(img.getpixel((x, y)))\n",
    "        \n",
    "print(img_pixels)"
   ]
  },
  {
   "cell_type": "code",
   "execution_count": 9,
   "metadata": {},
   "outputs": [
    {
     "name": "stdout",
     "output_type": "stream",
     "text": [
      "              precision    recall  f1-score   support\n",
      "\n",
      "           0       0.97      0.99      0.98        88\n",
      "           1       0.94      0.88      0.91        91\n",
      "           2       0.99      0.91      0.95        86\n",
      "           3       0.89      0.85      0.87        91\n",
      "           4       0.99      0.93      0.96        92\n",
      "           5       0.92      0.92      0.92        91\n",
      "           6       0.99      1.00      0.99        91\n",
      "           7       0.95      0.98      0.96        89\n",
      "           8       0.90      0.91      0.90        88\n",
      "           9       0.80      0.93      0.86        92\n",
      "\n",
      "    accuracy                           0.93       899\n",
      "   macro avg       0.93      0.93      0.93       899\n",
      "weighted avg       0.93      0.93      0.93       899\n",
      "\n"
     ]
    }
   ],
   "source": [
    "from sklearn import datasets\n",
    "from sklearn import metrics\n",
    "from sklearn.ensemble import RandomForestClassifier\n",
    "\n",
    "digits = datasets.load_digits()\n",
    "\n",
    "n_samples = len(digits.images)\n",
    "data = digits.images.reshape((n_samples, -1))\n",
    "\n",
    "model = RandomForestClassifier()\n",
    "\n",
    "model.fit(data[:n_samples // 2], digits.target[:n_samples // 2])  # //: 切り捨て除算\n",
    "\n",
    "expected = digits.target[n_samples // 2:]\n",
    "predicted = model.predict(data[n_samples // 2:])\n",
    "\n",
    "print(metrics.classification_report(expected, predicted))"
   ]
  }
 ],
 "metadata": {
  "kernelspec": {
   "display_name": "Python 3",
   "language": "python",
   "name": "python3"
  },
  "language_info": {
   "codemirror_mode": {
    "name": "ipython",
    "version": 3
   },
   "file_extension": ".py",
   "mimetype": "text/x-python",
   "name": "python",
   "nbconvert_exporter": "python",
   "pygments_lexer": "ipython3",
   "version": "3.7.6"
  }
 },
 "nbformat": 4,
 "nbformat_minor": 2
}
