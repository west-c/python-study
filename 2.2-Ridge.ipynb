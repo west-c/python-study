{
 "cells": [
  {
   "cell_type": "code",
   "execution_count": 37,
   "metadata": {},
   "outputs": [
    {
     "name": "stdout",
     "output_type": "stream",
     "text": [
      "0.20009348705715208\n",
      "0.2742089793950228\n"
     ]
    }
   ],
   "source": [
    "# 正則化\n",
    "# sin関数をRidge回帰でモデル化\n",
    "import numpy as np\n",
    "from sklearn.preprocessing import PolynomialFeatures\n",
    "from sklearn.linear_model import Ridge\n",
    "from sklearn.metrics import mean_squared_error\n",
    "\n",
    "train_size = 20\n",
    "test_size = 12\n",
    "train_X = np.random.uniform(low=0, high=1.2, size=train_size)\n",
    "test_X = np.random.uniform(low=0.1, high=1.3, size=test_size)\n",
    "train_y = np.sin(train_X * 2 * np.pi) + np.random.normal(0, 0.2, train_size)\n",
    "test_y = np.sin(test_X * 2 * np.pi) + np.random.normal(0, 0.2, test_size)\n",
    "\n",
    "poly = PolynomialFeatures(6) # 次数は6\n",
    "train_poly_X = poly.fit_transform(train_X.reshape(train_size, 1))\n",
    "test_poly_X = poly.fit_transform(test_X.reshape(test_size, 1))\n",
    "\n",
    "model = Ridge(alpha=1)\n",
    "model.fit(train_poly_X, train_y)\n",
    "train_pred_y = model.predict(train_poly_X)\n",
    "test_pred_y = model.predict(test_poly_X)\n",
    "\n",
    "# 平均二乗誤差\n",
    "print(mean_squared_error(train_pred_y, train_y))\n",
    "print(mean_squared_error(test_pred_y, test_y))"
   ]
  }
 ],
 "metadata": {
  "kernelspec": {
   "display_name": "Python 3",
   "language": "python",
   "name": "python3"
  },
  "language_info": {
   "codemirror_mode": {
    "name": "ipython",
    "version": 3
   },
   "file_extension": ".py",
   "mimetype": "text/x-python",
   "name": "python",
   "nbconvert_exporter": "python",
   "pygments_lexer": "ipython3",
   "version": "3.7.5"
  }
 },
 "nbformat": 4,
 "nbformat_minor": 2
}
