{
 "cells": [
  {
   "cell_type": "code",
   "execution_count": 6,
   "metadata": {
    "scrolled": true
   },
   "outputs": [
    {
     "name": "stdout",
     "output_type": "stream",
     "text": [
      "[[4.82057314e+01 5.00000013e-02 7.34150291e+01 ... 1.22790369e+00\n",
      "  1.67431599e+01 5.00000004e-02]\n",
      " [5.00000008e-02 5.00000007e-02 5.00000003e-02 ... 6.66808102e+00\n",
      "  5.00000004e-02 1.58199712e+00]\n",
      " [5.00000002e-02 1.21635216e+02 5.00000014e-02 ... 8.63868524e-01\n",
      "  9.66073891e+01 5.05571231e+00]\n",
      " ...\n",
      " [5.00000006e-02 5.00000005e-02 5.00000007e-02 ... 5.77309083e+01\n",
      "  5.00000002e-02 5.00000002e-02]\n",
      " [5.00000002e-02 1.39487560e+01 5.00000003e-02 ... 3.17514993e+00\n",
      "  4.87270567e+01 5.00000013e-02]\n",
      " [3.70052110e-01 1.14735134e+01 1.36602718e+01 ... 5.00000006e-02\n",
      "  1.17554305e+01 1.67406987e+01]]\n",
      "[[0.00208333 0.00208333 0.09783544 ... 0.00208333 0.00208333 0.00208333]\n",
      " [0.23462061 0.0025     0.0025     ... 0.16514101 0.0025     0.0025    ]\n",
      " [0.31862983 0.00060241 0.00060241 ... 0.00060241 0.00060241 0.00060241]\n",
      " ...\n",
      " [0.00454545 0.00454545 0.00454545 ... 0.44881401 0.00454545 0.00454545]\n",
      " [0.00294118 0.00294118 0.14597794 ... 0.00294118 0.00294118 0.00294118]\n",
      " [0.47414469 0.00357143 0.00357143 ... 0.00357143 0.00357143 0.00357143]]\n"
     ]
    }
   ],
   "source": [
    "from sklearn.datasets import fetch_20newsgroups\n",
    "from sklearn.feature_extraction.text import CountVectorizer\n",
    "from sklearn.decomposition import LatentDirichletAllocation\n",
    "\n",
    "# remoceで本文以外の情報を取り除く\n",
    "data = fetch_20newsgroups(remove=('headers', 'footers', 'quotes'))\n",
    "\n",
    "max_features = 1000\n",
    "# 文書データをベクトルに変換\n",
    "# ストップワード：精度向上のために処理から除く単語\n",
    "tf_vectorizer = CountVectorizer(max_features=max_features, stop_words='english')\n",
    "tf = tf_vectorizer.fit_transform(data.data)\n",
    "\n",
    "n_topics = 20\n",
    "model = LatentDirichletAllocation(n_components=n_topics)\n",
    "model.fit(tf)\n",
    "\n",
    "print(model.components_)  # 各トピックが持つ単語分布\n",
    "print(model.transform(tf))  # トピックで表現された文章"
   ]
  }
 ],
 "metadata": {
  "kernelspec": {
   "display_name": "Python 3",
   "language": "python",
   "name": "python3"
  },
  "language_info": {
   "codemirror_mode": {
    "name": "ipython",
    "version": 3
   },
   "file_extension": ".py",
   "mimetype": "text/x-python",
   "name": "python",
   "nbconvert_exporter": "python",
   "pygments_lexer": "ipython3",
   "version": "3.7.5"
  }
 },
 "nbformat": 4,
 "nbformat_minor": 2
}
