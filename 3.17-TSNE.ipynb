{
 "cells": [
  {
   "cell_type": "code",
   "execution_count": 3,
   "metadata": {},
   "outputs": [
    {
     "name": "stdout",
     "output_type": "stream",
     "text": [
      "[[ 48.314915    29.484627  ]\n",
      " [-27.685587   -21.789473  ]\n",
      " [ -6.6511564  -31.777323  ]\n",
      " ...\n",
      " [ -6.786224   -19.660582  ]\n",
      " [ 26.537382    -4.948172  ]\n",
      " [ -0.06686464 -20.905056  ]]\n"
     ]
    }
   ],
   "source": [
    "from sklearn.manifold import TSNE\n",
    "from sklearn.datasets import load_digits\n",
    "\n",
    "data = load_digits()\n",
    "n_components = 2  # 削減後の次元を2に設定\n",
    "model = TSNE(n_components=n_components)\n",
    "\n",
    "print(model.fit_transform(data.data))"
   ]
  }
 ],
 "metadata": {
  "kernelspec": {
   "display_name": "Python 3",
   "language": "python",
   "name": "python3"
  },
  "language_info": {
   "codemirror_mode": {
    "name": "ipython",
    "version": 3
   },
   "file_extension": ".py",
   "mimetype": "text/x-python",
   "name": "python",
   "nbconvert_exporter": "python",
   "pygments_lexer": "ipython3",
   "version": "3.7.6"
  }
 },
 "nbformat": 4,
 "nbformat_minor": 2
}
